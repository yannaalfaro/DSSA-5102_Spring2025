{
 "cells": [
  {
   "cell_type": "markdown",
   "id": "4cdc446b",
   "metadata": {},
   "source": [
    "# Assignment #3 - Data Gathering and Warehousing - DSSA-5102\n",
    "\n",
    "Instructor: Melissa Laurino</br>\n",
    "Spring 2025</br>\n",
    "\n",
    "Name: \n",
    "</br>\n",
    "Date:\n",
    "<br>\n",
    "<br>\n",
    "We introduced in Assignment #2 the imporatance of data cleaning and why accurrate data is needed when making informed decisions in our fields. In our assignment, we were faced with making the decision whether or not to omit data we may not know too much about yet. \n",
    "<br>\n",
    "<b>Metadata</b> is data about the data. Metadata can be structural, administrative, statistical and much more.\n",
    "<br>\n",
    "When building your data warehouses it is important to have data cleaning protocols established for your organization BEFORE you start to clean the data.<br><br>\n",
    "Your task for Assignment #3 is to:<br>\n",
    "<b>--</b>Create a Github repository for this class. It can be public or private. If you choose to make it private, add the instructor as a collaborator. @MelissaLaurino<br>\n",
    "<b>---</b>It is suggested to create your repository using the Git terminal commands. See Blackboard for step by step instructions.\n",
    "<b>--</b>Staying Connected -> Visit the Discussion Board and share your username with classmates. Follow your classmates on Github.<br>\n",
    "<b>--</b>Upload Assignment #1, #2, and your clean data (If you created a physical clean copy of it, otherwise the link is fine) to your new/established Github repository. For every repository you create, you'll automatically have the option to include a README.md (Meta data) file. <br>\n",
    "<b>--</b>Create a descriptive and very detailed README.md file for your dataset you have chosen to continue with. Insert a link to your Github README.md repository file in the comments section on Blackboard, or attach this assignment for submission.\n"
   ]
  },
  {
   "cell_type": "markdown",
   "id": "71044053",
   "metadata": {},
   "source": [
    "Include all of the following information on your README.md file for full credit. Be specific!:<br>\n",
    "More research may be needed on your dataset, besides general exploration, to answer the different types of metadata questions. If you are exploring your data at a greater depth to answer these questions, you can explore on this new document or continue working in Assignment #2.<br>\n",
    "(Refer to the Powerpoint notes on Blackboard for examples and guidance.)"
   ]
  },
  {
   "cell_type": "markdown",
   "id": "a3948dda",
   "metadata": {},
   "source": [
    "Where is the data from? ​\n",
    "\n",
    "How was it collected?​\n",
    "\n",
    "How was it extracted?​\n",
    "\n",
    "What program was used to clean the data?​\n",
    "\n",
    "How was the data cleaned or transformed? Be specific.​\n",
    "\n",
    "What are the units of the numeric data?​\n",
    "\n",
    "What were the formulas used in column creation?​\n",
    "\n",
    "How is the data validated to ensure consistency?​\n",
    "\n",
    "What are the definitions for the column names? Include all columns in your dataset.​\n",
    "\n",
    "If there are set variable options in your dataset, what are thier definitions? ​\n",
    "\n",
    "What are the regulations to using the data? \n",
    "\n",
    "If you are referencing sources, be sure to include citations/references as needed."
   ]
  },
  {
   "cell_type": "markdown",
   "id": "4ca19ef3",
   "metadata": {},
   "source": [
    "<b>Link to Github account:<b><br>\n",
    "<b>Link to README.md for our class repository:<b><br>"
   ]
  },
  {
   "cell_type": "code",
   "execution_count": null,
   "id": "c9126cac",
   "metadata": {},
   "outputs": [],
   "source": []
  }
 ],
 "metadata": {
  "kernelspec": {
   "display_name": "Python [conda env:base] *",
   "language": "python",
   "name": "conda-base-py"
  },
  "language_info": {
   "codemirror_mode": {
    "name": "ipython",
    "version": 3
   },
   "file_extension": ".py",
   "mimetype": "text/x-python",
   "name": "python",
   "nbconvert_exporter": "python",
   "pygments_lexer": "ipython3",
   "version": "3.12.2"
  }
 },
 "nbformat": 4,
 "nbformat_minor": 5
}
