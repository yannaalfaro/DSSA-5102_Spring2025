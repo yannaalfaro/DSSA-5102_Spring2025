{
 "cells": [
  {
   "cell_type": "markdown",
   "id": "c825ca7c",
   "metadata": {},
   "source": [
    "# Assignment #1 - Data Gathering and Warehousing - DSSA-5102"
   ]
  },
  {
   "cell_type": "markdown",
   "id": "3e792669",
   "metadata": {},
   "source": [
    "Instructor: Melissa Laurino<br>\n",
    "Spring 2025"
   ]
  },
  {
   "cell_type": "markdown",
   "id": "db9fe204",
   "metadata": {},
   "source": [
    "Name: Adriana Alfaro \n",
    "Date: 2/6/2025"
   ]
  },
  {
   "cell_type": "markdown",
   "id": "292e9143",
   "metadata": {
    "jupyter": {
     "source_hidden": true
    }
   },
   "source": [
    "<b>Data. Is. Everywhere.</b> <br>\n",
    "Our first objective is to locate and explore <b>TWO</b> datasets about something you are passionate about, or related to a field you would like to work in. Our semester plan is <i>try</i> to work with the same dataset through out the semester. You can find and explore as many datasets as you wish, but Assignment #2 will focus on the one you like the best.\n",
    "There are many great websites that offer public datasets avaialable to download. Examples include but are not limited to:\n",
    "<br>\n",
    "Data.gov - https://data.gov/ - has many government owened public datasets.<br>\n",
    "World Bank Data - https://data.worldbank.org/ - has world economic, social, and environmental data.<br>\n",
    "Google Dataset Search - https://datasetsearch.research.google.com/ - many of these available datasets link to published studies available on Google Scholar in many fields.<br>\n",
    "Kaggle Datasets - https://www.kaggle.com/datasets - a platform for sharing datasets. Anyone can upload to this website.<br>\n",
    "U.S. Census Bureau - https://www.census.gov/ - data on people, places and econoy for the United States.\n",
    "GitHub - https://github.com/ - hosts datasets and completed projects.<br>\n",
    "Federal Reserve Economic Data (FRED) - https://fred.stlouisfed.org/ - Financial and economic data.<br>\n",
    "CDC - https://data.cdc.gov/ - Explore the various data collected by the CDC.<br>\n",
    "NOAA - https://www.ncei.noaa.gov/cdo-web/ - NOAA climate and ocean data. <br>\n",
    "<br>\n",
    "In addition to these resources, occasionally local organizations may be able to provide you with data, or maybe even your own company! Your data source can come from a personal connection, but please be mindful of any data agreements or approvals you may need. If you need approval to use data from your place of employment, please specify that with the instructor so we can ensure no violations to your data agreement will be made this semester.\n",
    "<br>\n",
    "<br>\n",
    "Resources for learning Python:\n",
    "- Data camp - https://www.datacamp.com/category/python - Contact Professor Baldwin for access.<br>\n",
    "- Data Science from Scratch: First Principles with Python - Check Blackboard <br>\n",
    "- Python for Data Analysis Data Wrangling with pandas, NumPy & Jupyter - Check Blackboard"
   ]
  },
  {
   "cell_type": "markdown",
   "id": "3a94cb41-13d6-4aec-9ba9-5950fb3b5229",
   "metadata": {},
   "source": [
    "<b>Data. Is. Everywhere.</b> <br>\n",
    "Our first objective is to locate and explore <b>TWO</b> datasets about something you are passionate about, or related to a field you would like to work in. Our semester plan is <i>try</i> to work with the same dataset through out the semester. You can find and explore as many datasets as you wish, but Assignment #2 will focus on the one you like the best.\n",
    "There are many great websites that offer public datasets avaialable to download. Examples include but are not limited to:\n",
    "<br>\n",
    "Data.gov - https://data.gov/ - has many government owened public datasets.<br>\n",
    "World Bank Data - https://data.worldbank.org/ - has world economic, social, and environmental data.<br>\n",
    "Google Dataset Search - https://datasetsearch.research.google.com/ - many of these available datasets link to published studies available on Google Scholar in many fields.<br>\n",
    "Kaggle Datasets - https://www.kaggle.com/datasets - a platform for sharing datasets. Anyone can upload to this website.<br>\n",
    "U.S. Census Bureau - https://www.census.gov/ - data on people, places and econoy for the United States.\n",
    "GitHub - https://github.com/ - hosts datasets and completed projects.<br>\n",
    "Federal Reserve Economic Data (FRED) - https://fred.stlouisfed.org/ - Financial and economic data.<br>\n",
    "CDC - https://data.cdc.gov/ - Explore the various data collected by the CDC.<br>\n",
    "NOAA - https://www.ncei.noaa.gov/cdo-web/ - NOAA climate and ocean data. <br>\n",
    "<br>\n",
    "In addition to these resources, occasionally local organizations may be able to provide you with data, or maybe even your own company! Your data source can come from a personal connection, but please be mindful of any data agreements or approvals you may need. If you need approval to use data from your place of employment, please specify that with the instructor so we can ensure no violations to your data agreement will be made this semester.\n",
    "<br>\n",
    "<br>\n",
    "Resources for learning Python:\n",
    "- Data camp - https://www.datacamp.com/category/python - Contact Professor Baldwin for access.<br>\n",
    "- Data Science from Scratch: First Principles with Python - Check Blackboard <br>\n",
    "- Python for Data Analysis Data Wrangling with pandas, NumPy & Jupyter - Check Blackboard"
   ]
  },
  {
   "cell_type": "markdown",
   "id": "712dad64-6ed8-4680-90b7-4e47833e6887",
   "metadata": {},
   "source": [
    "For Assignment #1, our objective is to locate and explore two different datasets using Python. We will choose one of these datasets to clean to prepare for our future database. For each dataset include: <br>\n",
    "- The dataset name, company/organization resonsible for data collection, the download link, and date of access. <br>\n",
    "- Load neccessary packages <br>\n",
    "- Obtain the general info for your data such as size, number of rows/columns, column names, describing the data etc. <br>\n",
    "- What are the unique columns or variables present in your dataset? <br>\n",
    "- Create one quick plot to visualize your data. It is okay if it is messy since your data has not been cleaned yet, but still make sure you are practicing good graphins with a title, axis labels, and anything else needed for your graph.  <br>\n",
    "\n",
    "Comment ALL code to recieve full credit. The above bullet points are to help guide you in your process, but extensive exploration is expected for each data set. <br>\n",
    "<br>\n",
    "Explore various markdown font settings: https://ingeh.medium.com/markdown-for-jupyter-notebooks-cheatsheet-386c05aeebed"
   ]
  },
  {
   "cell_type": "markdown",
   "id": "6c5eadb4",
   "metadata": {},
   "source": [
    "## Dataset #1"
   ]
  },
  {
   "cell_type": "markdown",
   "id": "75521fab-75ef-4847-9ae4-d9cd8862435a",
   "metadata": {
    "jupyter": {
     "source_hidden": true
    }
   },
   "source": [
    "<b>Dataset name: </b> El Salvador - Spatial growth of cities and urban areas <br> \n",
    "<b>Company/Government Organization: </b> UNHABIT - Urban indicators <br>\n",
    "Download link: https://data.humdata.org/dataset/45598c29-a7f2-4715-a227-7cdeaa39d6e4/resource/9cc86d61-7472-4e39-a40d-7303fcdc9260/download/sdg_11-3-1_slv.csv  <br>\n",
    "Date of Access: 2/6/2025"
   ]
  },
  {
   "cell_type": "markdown",
   "id": "56a26fbf-853c-47e4-905b-cc4cd6725875",
   "metadata": {},
   "source": [
    "<b>Dataset name: </b> El Salvador - Spatial growth of cities and urban areas <br> \n",
    "<b>Company/Government Organization: </b> UNHABIT - Urban indicators <br>\n",
    "Download link: https://data.humdata.org/dataset/45598c29-a7f2-4715-a227-7cdeaa39d6e4/resource/9cc86d61-7472-4e39-a40d-7303fcdc9260/download/sdg_11-3-1_slv.csv  <br>\n",
    "Date of Access: 2/6/2025"
   ]
  },
  {
   "cell_type": "markdown",
   "id": "55a352bf",
   "metadata": {},
   "source": [
    "Popular packages to load in working with Python: <br>\n",
    "pandas: https://pandas.pydata.org/about/index.html <br>\n",
    "numpy: https://numpy.org/learn/ <br>\n",
    "matplotlib: https://matplotlib.org/stable/api/pyplot_summary.html"
   ]
  },
  {
   "cell_type": "code",
   "execution_count": 45,
   "id": "f274f2ae",
   "metadata": {
    "scrolled": true
   },
   "outputs": [],
   "source": [
    "# My examples are below, but edit as needed to fit your dataset:\n",
    "import pandas as pd # Reads, writes, shapes, manipulates data\n",
    "import numpy as np # Basic stats and numerical operations\n",
    "import matplotlib.pyplot as plt # Creating basic graphs"
   ]
  },
  {
   "cell_type": "markdown",
   "id": "79c86913",
   "metadata": {},
   "source": [
    "Importing a library as an abbreviation is beneficial to shorten your code and make it more concise. <br>\n",
    "For example, when referencing your data frame without the abbreviation you would write: pandas.DataFrame <br>\n",
    "With an abbreviation, you can just write: pd.DataFrame"
   ]
  },
  {
   "cell_type": "markdown",
   "id": "de7e9968-efb1-482d-b7f7-c309228fbbde",
   "metadata": {},
   "source": [
    "Load your chosen dataset into the notebook below:"
   ]
  },
  {
   "cell_type": "code",
   "execution_count": 12,
   "id": "8dbcdffd",
   "metadata": {},
   "outputs": [],
   "source": [
    "# Be sure to document each line of code like the above example.\n",
    "# Documenting each line of code is helpful when revisiting assignments later in the semester."
   ]
  },
  {
   "cell_type": "code",
   "execution_count": 14,
   "id": "2fc0d288",
   "metadata": {},
   "outputs": [],
   "source": [
    "# Load the locally stored CSV file as a dataframe\n",
    "df = pd.read_csv(\"sdg_11-3-1_slv.csv\")\n",
    "\n"
   ]
  },
  {
   "cell_type": "markdown",
   "id": "2d345116-947c-4fa3-ac6f-435a8ea06fcb",
   "metadata": {},
   "source": [
    "We can run df.info() to see how large the dataframe is:"
   ]
  },
  {
   "cell_type": "code",
   "execution_count": 17,
   "id": "bfe1d023-2f96-48af-945a-95ce54d937e5",
   "metadata": {},
   "outputs": [
    {
     "name": "stdout",
     "output_type": "stream",
     "text": [
      "<class 'pandas.core.frame.DataFrame'>\n",
      "RangeIndex: 2 entries, 0 to 1\n",
      "Data columns (total 23 columns):\n",
      " #   Column                                                                                      Non-Null Count  Dtype  \n",
      "---  ------                                                                                      --------------  -----  \n",
      " 0   SDG Goal                                                                                    2 non-null      int64  \n",
      " 1   SDG Target                                                                                  2 non-null      float64\n",
      " 2   SDG Indicator                                                                               2 non-null      object \n",
      " 3   Country or Territory Code                                                                   2 non-null      int64  \n",
      " 4   Country or Territory Name                                                                   2 non-null      object \n",
      " 5   SDG Region                                                                                  2 non-null      object \n",
      " 6   SDG Sub-Region                                                                              2 non-null      object \n",
      " 7   City Code                                                                                   2 non-null      object \n",
      " 8   City Name                                                                                   2 non-null      object \n",
      " 9   Data Year 1                                                                                 2 non-null      int64  \n",
      " 10  Data Year 2                                                                                 2 non-null      int64  \n",
      " 11  Data Year 3                                                                                 2 non-null      int64  \n",
      " 12  Land consumption rate (LCR) Year 1 to Year 2 (%)                                            2 non-null      float64\n",
      " 13  Land consumption rate (LCR) Year 2 to Year 3 (%)                                            2 non-null      float64\n",
      " 14  Population Growth Rate (PGR) Year 1 to Year 2 (%)                                           2 non-null      float64\n",
      " 15  Population Growth Rate (PGR) Year 2 to Year 3 (%)                                           2 non-null      float64\n",
      " 16  Ratio of Land Consumption Rate to Population Growth Rate (LCRPGR) Year 1 to Year 2 (Ratio)  2 non-null      float64\n",
      " 17  Ratio of Land Consumption Rate to Population Growth Rate (LCRPGR) Year 2 to Year 3 (Ratio)  1 non-null      float64\n",
      " 18  Built Up area Per Capita Year 1 (m2 per person)                                             2 non-null      float64\n",
      " 19  Built Up area Per Capita Year 2 (m2 per person)                                             2 non-null      float64\n",
      " 20  Built Up area Per Capita Year 3 (m2 per person)                                             2 non-null      float64\n",
      " 21  Data Source                                                                                 2 non-null      object \n",
      " 22  FootNote                                                                                    2 non-null      object \n",
      "dtypes: float64(10), int64(5), object(8)\n",
      "memory usage: 500.0+ bytes\n"
     ]
    }
   ],
   "source": [
    "df.info()"
   ]
  },
  {
   "cell_type": "code",
   "execution_count": 21,
   "id": "1ed08a0e",
   "metadata": {},
   "outputs": [
    {
     "data": {
      "text/plain": [
       "(2, 23)"
      ]
     },
     "execution_count": 21,
     "metadata": {},
     "output_type": "execute_result"
    }
   ],
   "source": [
    "df.shape"
   ]
  },
  {
   "cell_type": "markdown",
   "id": "7959c595-f3be-4277-8b84-e0aaa92bfd53",
   "metadata": {},
   "source": [
    "I have 23 columns in my dataset. \n",
    "I have 2 rows in my dataset."
   ]
  },
  {
   "cell_type": "code",
   "execution_count": 23,
   "id": "f944fe78-56d8-43af-9677-819b6ead3c10",
   "metadata": {},
   "outputs": [
    {
     "data": {
      "text/plain": [
       "Index(['SDG Goal', 'SDG Target', 'SDG Indicator', 'Country or Territory Code',\n",
       "       'Country or Territory Name', 'SDG Region', 'SDG Sub-Region',\n",
       "       'City Code', 'City Name', 'Data Year 1', 'Data Year 2', 'Data Year 3',\n",
       "       'Land consumption rate (LCR) Year 1 to Year 2 (%)',\n",
       "       'Land consumption rate (LCR) Year 2 to Year 3 (%)',\n",
       "       'Population Growth Rate (PGR) Year 1 to Year 2 (%)',\n",
       "       'Population Growth Rate (PGR) Year 2 to Year 3 (%)',\n",
       "       'Ratio of Land Consumption Rate to Population Growth Rate (LCRPGR) Year 1 to Year 2 (Ratio)',\n",
       "       'Ratio of Land Consumption Rate to Population Growth Rate (LCRPGR) Year 2 to Year 3 (Ratio)',\n",
       "       'Built Up area Per Capita Year 1 (m2 per person)',\n",
       "       'Built Up area Per Capita Year 2 (m2 per person)',\n",
       "       'Built Up area Per Capita Year 3 (m2 per person)', 'Data Source',\n",
       "       'FootNote'],\n",
       "      dtype='object')"
      ]
     },
     "execution_count": 23,
     "metadata": {},
     "output_type": "execute_result"
    }
   ],
   "source": [
    "df.columns"
   ]
  },
  {
   "cell_type": "code",
   "execution_count": 207,
   "id": "49dd7a12-f482-497d-9d1a-703932ec7730",
   "metadata": {},
   "outputs": [],
   "source": []
  },
  {
   "cell_type": "markdown",
   "id": "741d90c8",
   "metadata": {},
   "source": [
    "What are the unique columns or variables present in your dataset? How many rows are there?"
   ]
  },
  {
   "cell_type": "code",
   "execution_count": 31,
   "id": "4b0ba15e-1210-4114-992b-157d5ebfa9f5",
   "metadata": {},
   "outputs": [
    {
     "name": "stdout",
     "output_type": "stream",
     "text": [
      "Number of rows 2\n"
     ]
    }
   ],
   "source": [
    "# What are the unique column names?\n",
    "#There are 23 unique column names \n",
    "\n",
    "# Find and print the total number of columns\n",
    "\n",
    "#['SDG Goal', 'SDG Target', 'SDG Indicator', 'Country or Territory Code',\n",
    " #      'Country or Territory Name', 'SDG Region', 'SDG Sub-Region',\n",
    " #      'City Code', 'City Name', 'Data Year 1', 'Data Year 2', 'Data Year 3',\n",
    " #      'Land consumption rate (LCR) Year 1 to Year 2 (%)',\n",
    " #      'Land consumption rate (LCR) Year 2 to Year 3 (%)',\n",
    " #      'Population Growth Rate (PGR) Year 1 to Year 2 (%)',\n",
    " #      'Population Growth Rate (PGR) Year 2 to Year 3 (%)',\n",
    " #      'Ratio of Land Consumption Rate to Population Growth Rate (LCRPGR) Year 1 to Year 2 (Ratio)',\n",
    " #      'Ratio of Land Consumption Rate to Population Growth Rate (LCRPGR) Year 2 to Year 3 (Ratio)',\n",
    " #      'Built Up area Per Capita Year 1 (m2 per person)',\n",
    " #      'Built Up area Per Capita Year 2 (m2 per person)',\n",
    " #      'Built Up area Per Capita Year 3 (m2 per person)', 'Data Source',\n",
    " #      'FootNote']\n",
    "\n",
    "# Find and print the total number of rows\n",
    "num_rows = df.shape[0]\n",
    "print(\"Number of rows\", num_rows)\n"
   ]
  },
  {
   "cell_type": "markdown",
   "id": "e24b6448-b634-4b7a-9c69-f9a9353cb354",
   "metadata": {},
   "source": [
    "Use print(\" \") statements in python to print text or variables in the output. <br>\n",
    "Use \\n in the print statement to skip a line. Without skipping a line, everything prints close together."
   ]
  },
  {
   "cell_type": "code",
   "execution_count": 33,
   "id": "26525152-01c2-43ce-8b4d-1720a337892f",
   "metadata": {},
   "outputs": [
    {
     "name": "stdout",
     "output_type": "stream",
     "text": [
      "       SDG Goal  SDG Target  Country or Territory Code  Data Year 1  \\\n",
      "count       2.0         2.0                        2.0          2.0   \n",
      "mean       11.0        11.3                      222.0       2000.0   \n",
      "std         0.0         0.0                        0.0          0.0   \n",
      "min        11.0        11.3                      222.0       2000.0   \n",
      "25%        11.0        11.3                      222.0       2000.0   \n",
      "50%        11.0        11.3                      222.0       2000.0   \n",
      "75%        11.0        11.3                      222.0       2000.0   \n",
      "max        11.0        11.3                      222.0       2000.0   \n",
      "\n",
      "       Data Year 2  Data Year 3  \\\n",
      "count          2.0          2.0   \n",
      "mean        2010.0       2020.0   \n",
      "std            0.0          0.0   \n",
      "min         2010.0       2020.0   \n",
      "25%         2010.0       2020.0   \n",
      "50%         2010.0       2020.0   \n",
      "75%         2010.0       2020.0   \n",
      "max         2010.0       2020.0   \n",
      "\n",
      "       Land consumption rate (LCR) Year 1 to Year 2 (%)  \\\n",
      "count                                          2.000000   \n",
      "mean                                           0.994863   \n",
      "std                                            0.091100   \n",
      "min                                            0.930445   \n",
      "25%                                            0.962654   \n",
      "50%                                            0.994863   \n",
      "75%                                            1.027072   \n",
      "max                                            1.059281   \n",
      "\n",
      "       Land consumption rate (LCR) Year 2 to Year 3 (%)  \\\n",
      "count                                          2.000000   \n",
      "mean                                           0.295075   \n",
      "std                                            0.295135   \n",
      "min                                            0.086382   \n",
      "25%                                            0.190728   \n",
      "50%                                            0.295075   \n",
      "75%                                            0.399421   \n",
      "max                                            0.503767   \n",
      "\n",
      "       Population Growth Rate (PGR) Year 1 to Year 2 (%)  \\\n",
      "count                                           2.000000   \n",
      "mean                                            0.279423   \n",
      "std                                             0.292411   \n",
      "min                                             0.072657   \n",
      "25%                                             0.176040   \n",
      "50%                                             0.279423   \n",
      "75%                                             0.382806   \n",
      "max                                             0.486189   \n",
      "\n",
      "       Population Growth Rate (PGR) Year 2 to Year 3 (%)  \\\n",
      "count                                           2.000000   \n",
      "mean                                           -0.057501   \n",
      "std                                             0.172933   \n",
      "min                                            -0.179783   \n",
      "25%                                            -0.118642   \n",
      "50%                                            -0.057501   \n",
      "75%                                             0.003640   \n",
      "max                                             0.064781   \n",
      "\n",
      "       Ratio of Land Consumption Rate to Population Growth Rate (LCRPGR) Year 1 to Year 2 (Ratio)  \\\n",
      "count                                           2.000000                                            \n",
      "mean                                            7.492351                                            \n",
      "std                                             7.514577                                            \n",
      "min                                             2.178742                                            \n",
      "25%                                             4.835546                                            \n",
      "50%                                             7.492351                                            \n",
      "75%                                            10.149155                                            \n",
      "max                                            12.805959                                            \n",
      "\n",
      "       Ratio of Land Consumption Rate to Population Growth Rate (LCRPGR) Year 2 to Year 3 (Ratio)  \\\n",
      "count                                           1.000000                                            \n",
      "mean                                            7.776438                                            \n",
      "std                                                  NaN                                            \n",
      "min                                             7.776438                                            \n",
      "25%                                             7.776438                                            \n",
      "50%                                             7.776438                                            \n",
      "75%                                             7.776438                                            \n",
      "max                                             7.776438                                            \n",
      "\n",
      "       Built Up area Per Capita Year 1 (m2 per person)  \\\n",
      "count                                         2.000000   \n",
      "mean                                         87.933890   \n",
      "std                                          32.991827   \n",
      "min                                          64.605145   \n",
      "25%                                          76.269518   \n",
      "50%                                          87.933890   \n",
      "75%                                          99.598262   \n",
      "max                                         111.262634   \n",
      "\n",
      "       Built Up area Per Capita Year 2 (m2 per person)  \\\n",
      "count                                         2.000000   \n",
      "mean                                         94.821834   \n",
      "std                                          37.343826   \n",
      "min                                          68.415761   \n",
      "25%                                          81.618797   \n",
      "50%                                          94.821834   \n",
      "75%                                         108.024870   \n",
      "max                                         121.227906   \n",
      "\n",
      "       Built Up area Per Capita Year 3 (m2 per person)  \n",
      "count                                         2.000000  \n",
      "mean                                         97.991956  \n",
      "std                                          37.485066  \n",
      "min                                          71.486012  \n",
      "25%                                          84.738984  \n",
      "50%                                          97.991956  \n",
      "75%                                         111.244928  \n",
      "max                                         124.497900  \n"
     ]
    }
   ],
   "source": [
    "# Describe the numerical columns\n",
    "print(df.describe())\n"
   ]
  },
  {
   "cell_type": "code",
   "execution_count": 35,
   "id": "65652edf",
   "metadata": {},
   "outputs": [
    {
     "name": "stdout",
     "output_type": "stream",
     "text": [
      "SDG Goal                                                                                        int64\n",
      "SDG Target                                                                                    float64\n",
      "SDG Indicator                                                                                  object\n",
      "Country or Territory Code                                                                       int64\n",
      "Country or Territory Name                                                                      object\n",
      "SDG Region                                                                                     object\n",
      "SDG Sub-Region                                                                                 object\n",
      "City Code                                                                                      object\n",
      "City Name                                                                                      object\n",
      "Data Year 1                                                                                     int64\n",
      "Data Year 2                                                                                     int64\n",
      "Data Year 3                                                                                     int64\n",
      "Land consumption rate (LCR) Year 1 to Year 2 (%)                                              float64\n",
      "Land consumption rate (LCR) Year 2 to Year 3 (%)                                              float64\n",
      "Population Growth Rate (PGR) Year 1 to Year 2 (%)                                             float64\n",
      "Population Growth Rate (PGR) Year 2 to Year 3 (%)                                             float64\n",
      "Ratio of Land Consumption Rate to Population Growth Rate (LCRPGR) Year 1 to Year 2 (Ratio)    float64\n",
      "Ratio of Land Consumption Rate to Population Growth Rate (LCRPGR) Year 2 to Year 3 (Ratio)    float64\n",
      "Built Up area Per Capita Year 1 (m2 per person)                                               float64\n",
      "Built Up area Per Capita Year 2 (m2 per person)                                               float64\n",
      "Built Up area Per Capita Year 3 (m2 per person)                                               float64\n",
      "Data Source                                                                                    object\n",
      "FootNote                                                                                       object\n",
      "dtype: object\n"
     ]
    }
   ],
   "source": [
    "# Look more closely at the data types\n",
    "print(df.dtypes)"
   ]
  },
  {
   "cell_type": "code",
   "execution_count": 58,
   "id": "e554c1a0-9002-4b0a-98fd-02e52156ca38",
   "metadata": {},
   "outputs": [
    {
     "name": "stdout",
     "output_type": "stream",
     "text": [
      "[ 64.6051453  111.26263426]\n"
     ]
    }
   ],
   "source": [
    "# Explore the values of a category column:\n",
    "print(df[\"Built Up area Per Capita Year 1 (m2 per person)\"].unique())"
   ]
  },
  {
   "cell_type": "markdown",
   "id": "b913643b",
   "metadata": {},
   "source": [
    "Create one graph to quickly visualize your data using matplotlib. <br>\n",
    "Matplotlib color guide: https://i.sstatic.net/lFZum.png <br><br>\n",
    "It's okay if it is not visualy appealing or contains outliers, because we have not cleaned our data yet! Did you get any errors? If so, what were they? Would the errors have been avoided if you had cleaned the data first?<br>\n",
    "Data cleaning and transforming is very important when storing your data in a warehouse...ready for Assignment #2?"
   ]
  },
  {
   "cell_type": "code",
   "execution_count": 70,
   "id": "78f35535-acb7-4ee8-a074-09e4bba5f682",
   "metadata": {},
   "outputs": [
    {
     "data": {
      "image/png": "[encoded data removed]",
      "text/plain": [
       "<Figure size 640x480 with 1 Axes>"
      ]
     },
     "metadata": {},
     "output_type": "display_data"
    }
   ],
   "source": [
    "plt.plot(df[\"Data Year 1\"], df[\"Built Up area Per Capita Year 1 (m2 per person)\"], marker=\"o\", label=\"Year 1\") \n",
    "plt.plot(df[\"Data Year 2\"], df[\"Built Up area Per Capita Year 2 (m2 per person)\"], marker=\"o\", label=\"Year 2\")\n",
    "plt.plot(df[\"Data Year 3\"], df[\"Built Up area Per Capita Year 3 (m2 per person)\"], marker=\"o\", label=\"Year 3\")                                        \n",
    "plt.xlabel(\"Year\")\n",
    "plt.ylabel(\"Built Up Area Per Capita (m2 per person)\") \n",
    "plt.title(\"Built Up Area Over Time\")\n",
    "plt.legend()\n",
    "plt.show()"
   ]
  },
  {
   "cell_type": "markdown",
   "id": "251688bc-3597-4eec-b1e1-c1e24e090b93",
   "metadata": {},
   "source": [
    "## Dataset #2"
   ]
  },
  {
   "cell_type": "markdown",
   "id": "17ba6fbf-6c3e-469e-bf3a-49fb9d16fc84",
   "metadata": {
    "jupyter": {
     "source_hidden": true
    }
   },
   "source": [
    "<b>Dataset name: </b>Coffee Shop Sales<br>\n",
    "<b>Company/Government Organization:  Maven Analytics</b><br>\n",
    "Download link: https://mavenanalytics.io/data-playground?page=6&pageSize=5  <br>\n",
    "Date of Access: 2/8/2025"
   ]
  },
  {
   "cell_type": "markdown",
   "id": "4d30356f-4fb5-4afa-866a-6355d96f3590",
   "metadata": {},
   "source": [
    "<b>Dataset name: </b>Coffee Shop Sales<br>\n",
    "<b>Company/Government Organization:  Maven Analytics</b><br>\n",
    "Download link: https://mavenanalytics.io/data-playground?page=6&pageSize=5  <br>\n",
    "Date of Access: 2/8/2025"
   ]
  },
  {
   "cell_type": "code",
   "execution_count": 88,
   "id": "7e1aa0de-7440-46ad-84cb-ba7f50ac6821",
   "metadata": {},
   "outputs": [
    {
     "name": "stdout",
     "output_type": "stream",
     "text": [
      "Requirement already satisfied: openpyxl in /opt/anaconda3/lib/python3.12/site-packages (3.1.5)\n",
      "Requirement already satisfied: et-xmlfile in /opt/anaconda3/lib/python3.12/site-packages (from openpyxl) (1.1.0)\n",
      "Note: you may need to restart the kernel to use updated packages.\n"
     ]
    }
   ],
   "source": [
    "# install package to open excel \n",
    "pip install openpyxl"
   ]
  },
  {
   "cell_type": "code",
   "execution_count": 104,
   "id": "b4f74168-7ca6-4c93-8f2b-2b6892c7a8cb",
   "metadata": {},
   "outputs": [],
   "source": [
    "# read in excel data\n",
    "coffee_df = pd.read_excel('/Users/adrianaalfaro/Downloads/Coffee Shop Sales.xlsx')"
   ]
  },
  {
   "cell_type": "code",
   "execution_count": 114,
   "id": "4efa3d9f-e6ae-4c62-8517-1ef603939315",
   "metadata": {},
   "outputs": [
    {
     "data": {
      "text/plain": [
       "<bound method DataFrame.info of         transaction_id transaction_date transaction_time  transaction_qty  \\\n",
       "0                    1       2023-01-01         07:06:11                2   \n",
       "1                    2       2023-01-01         07:08:56                2   \n",
       "2                    3       2023-01-01         07:14:04                2   \n",
       "3                    4       2023-01-01         07:20:24                1   \n",
       "4                    5       2023-01-01         07:22:41                2   \n",
       "...                ...              ...              ...              ...   \n",
       "149111          149452       2023-06-30         20:18:41                2   \n",
       "149112          149453       2023-06-30         20:25:10                2   \n",
       "149113          149454       2023-06-30         20:31:34                1   \n",
       "149114          149455       2023-06-30         20:57:19                1   \n",
       "149115          149456       2023-06-30         20:57:19                2   \n",
       "\n",
       "        store_id   store_location  product_id  unit_price    product_category  \\\n",
       "0              5  Lower Manhattan          32        3.00              Coffee   \n",
       "1              5  Lower Manhattan          57        3.10                 Tea   \n",
       "2              5  Lower Manhattan          59        4.50  Drinking Chocolate   \n",
       "3              5  Lower Manhattan          22        2.00              Coffee   \n",
       "4              5  Lower Manhattan          57        3.10                 Tea   \n",
       "...          ...              ...         ...         ...                 ...   \n",
       "149111         8   Hell's Kitchen          44        2.50                 Tea   \n",
       "149112         8   Hell's Kitchen          49        3.00                 Tea   \n",
       "149113         8   Hell's Kitchen          45        3.00                 Tea   \n",
       "149114         8   Hell's Kitchen          40        3.75              Coffee   \n",
       "149115         8   Hell's Kitchen          64        0.80            Flavours   \n",
       "\n",
       "                 product_type               product_detail  \n",
       "0       Gourmet brewed coffee                  Ethiopia Rg  \n",
       "1             Brewed Chai tea     Spicy Eye Opener Chai Lg  \n",
       "2               Hot chocolate            Dark chocolate Lg  \n",
       "3                 Drip coffee  Our Old Time Diner Blend Sm  \n",
       "4             Brewed Chai tea     Spicy Eye Opener Chai Lg  \n",
       "...                       ...                          ...  \n",
       "149111      Brewed herbal tea                Peppermint Rg  \n",
       "149112       Brewed Black tea         English Breakfast Lg  \n",
       "149113      Brewed herbal tea                Peppermint Lg  \n",
       "149114       Barista Espresso                   Cappuccino  \n",
       "149115          Regular syrup               Hazelnut syrup  \n",
       "\n",
       "[149116 rows x 11 columns]>"
      ]
     },
     "execution_count": 114,
     "metadata": {},
     "output_type": "execute_result"
    }
   ],
   "source": [
    "# bigger picture of the data\n",
    "coffee_df.info"
   ]
  },
  {
   "cell_type": "code",
   "execution_count": 116,
   "id": "4ddf3b8b-b39a-4785-952b-f271b226c8c3",
   "metadata": {},
   "outputs": [
    {
     "data": {
      "text/plain": [
       "(149116, 11)"
      ]
     },
     "execution_count": 116,
     "metadata": {},
     "output_type": "execute_result"
    }
   ],
   "source": [
    "# Dimensions of the data frame\n",
    "coffee_df.shape"
   ]
  },
  {
   "cell_type": "code",
   "execution_count": null,
   "id": "c48223cc-e8c8-4677-88fb-ed66d62f16c8",
   "metadata": {},
   "outputs": [],
   "source": [
    "# There are 149116 rows and 11 columns"
   ]
  },
  {
   "cell_type": "code",
   "execution_count": 118,
   "id": "3fbfba8d-8065-4def-978d-0d5cf33b825f",
   "metadata": {},
   "outputs": [
    {
     "data": {
      "text/plain": [
       "Index(['transaction_id', 'transaction_date', 'transaction_time',\n",
       "       'transaction_qty', 'store_id', 'store_location', 'product_id',\n",
       "       'unit_price', 'product_category', 'product_type', 'product_detail'],\n",
       "      dtype='object')"
      ]
     },
     "execution_count": 118,
     "metadata": {},
     "output_type": "execute_result"
    }
   ],
   "source": [
    "coffee_df.columns"
   ]
  },
  {
   "cell_type": "code",
   "execution_count": null,
   "id": "22173b4a-0f45-4a5c-8551-a8b1cc666e28",
   "metadata": {},
   "outputs": [],
   "source": [
    "# There are eleven columns that describe transaction total, date, prouduct purchased, location & price"
   ]
  },
  {
   "cell_type": "code",
   "execution_count": 126,
   "id": "50932d62-30f3-4ed6-9d80-af56240bec7a",
   "metadata": {},
   "outputs": [
    {
     "name": "stdout",
     "output_type": "stream",
     "text": [
      "transaction_id               int64\n",
      "transaction_date    datetime64[ns]\n",
      "transaction_time            object\n",
      "transaction_qty              int64\n",
      "store_id                     int64\n",
      "store_location              object\n",
      "product_id                   int64\n",
      "unit_price                 float64\n",
      "product_category            object\n",
      "product_type                object\n",
      "product_detail              object\n",
      "dtype: object\n"
     ]
    }
   ],
   "source": [
    "print(coffee_df.dtypes)"
   ]
  },
  {
   "cell_type": "code",
   "execution_count": null,
   "id": "8a4d3430-3001-4a06-a7e6-2a9728fa0b0d",
   "metadata": {},
   "outputs": [],
   "source": [
    "# Data types include Integer, floats (decimals) and strings "
   ]
  },
  {
   "cell_type": "code",
   "execution_count": 162,
   "id": "9ce986ef-0427-41d8-8e7f-edccc11fef22",
   "metadata": {},
   "outputs": [
    {
     "name": "stderr",
     "output_type": "stream",
     "text": [
      "/var/folders/cp/0krblffs487dgjdz54k35sfr0000gn/T/ipykernel_17065/2432853749.py:5: FutureWarning: \n",
      "\n",
      "Passing `palette` without assigning `hue` is deprecated and will be removed in v0.14.0. Assign the `x` variable to `hue` and set `legend=False` for the same effect.\n",
      "\n",
      "  sns.barplot(data=coffee_df, x='product_type', y='unit_price', palette='viridis')\n"
     ]
    },
    {
     "data": {
      "image/png": "[encoded data removed]",
      "text/plain": [
       "<Figure size 2000x1200 with 1 Axes>"
      ]
     },
     "metadata": {},
     "output_type": "display_data"
    }
   ],
   "source": [
    "# basic bar plot visualizing sales by item\n",
    "import seaborn as sns\n",
    "\n",
    "plt.figure(figsize=(20,12))\n",
    "sns.barplot(data=coffee_df, x='product_type', y='unit_price', palette='viridis')\n",
    "plt.title(\"Sales by Item in Coffee Shop\")\n",
    "plt.xlabel(\"Item\")\n",
    "plt.ylabel(\"Sales\")\n",
    "plt.xticks(rotation=45)  # Rotate x-axis labels for better visibility\n",
    "plt.show()\n"
   ]
  },
  {
   "cell_type": "code",
   "execution_count": null,
   "id": "fd7f937a-70fc-4b92-9a2a-2402a09b9d24",
   "metadata": {},
   "outputs": [],
   "source": [
    "# In the coffee sales data set, I can see that there are missing categories, so im assuming that there will be more NAs"
   ]
  },
  {
   "cell_type": "code",
   "execution_count": null,
   "id": "4fce6b1d-9b2a-4f48-84b6-8ee79d89f94e",
   "metadata": {},
   "outputs": [],
   "source": []
  },
  {
   "cell_type": "code",
   "execution_count": null,
   "id": "0b817704-977a-4818-bbfa-77b9d749f7d5",
   "metadata": {},
   "outputs": [],
   "source": []
  },
  {
   "cell_type": "markdown",
   "id": "8ce67fcf",
   "metadata": {},
   "source": [
    "# Assignment #2 - Data Gathering and Warehousing - DSSA-5102\n",
    "\n",
    "Instructor: Melissa Laurino</br>\n",
    "Spring 2025</br>\n",
    "\n",
    "Our next objective is to choose <b>ONE</b> of the datasets from our previous assignment to explore further. The datasets we have chose for Assignment #1 can be cleaned by practicing our Python skills. Depending on your data, and especially the size of it, it may be more beneficial to clean in a language you are comfortable working in already instead of cleaning our data with a new language like SQL. SQL may be needed for cleaning of databases that are very large or hundreds of terabytes in size. We will clean our datasets first before we attempt to load them into our SQL databases. </br>\n",
    "Not only is data everywhere, but it can also be messy. Messy data can originate in the data collection process, whether this is occurring with manual data entry and typos, or with outdated collection forms that hold multiple variables that mean the same thing. For example, while collecting data on marine mammals, it is important to note who the observer is. With Python and R, reading excel or csv files, these languages will take the same variable written as, \"Melissa Laurino\" and \"melissa laurino\" as two separate observers because they are case sensitive. However, this is not accurate because they are meant to be the same person within the observer column or category.</br>\n",
    "Clean data is important for consistency that leads to accurate results and analysis. If we are using our data to make informed decisions in our field, we need it to be clean. We do not want to omit rows that may make a difference to our dataset because they do not fit a certain criteria due to typos, but how much should the original dataset be altered? Depending on your field, there may be regulations and compliance standards regarding data quality. Protocols may state if the data does not read exactly how it should be, then it should be ommitted. </br>\n",
    "For our learning objectives in this class, we will clean our data. Our first assignment in our warehousing journey was important because it allowed us to gain a better understanding of a dataset that we personally did not collect. Now that we have that understanding, we can explore it in greater depth and clean it as necessary.<br>\n",
    "<br>\n",
    "For Assignment #2, our objective is to clean one of the datasets explored above using Python to prepare for our future database from scratch. Include at a minimum:\n",
    "\n",
    "- The chosen dataset name, company/organization resonsible for data collection, the download link, and date of access.\n",
    "- Load neccessary packages and data (Only if you start a new session in Jupyter, not if you are continuing from above).\n",
    "- Make all column names lower case, contain no spaces, and no special characters (SQL will not like this otherwise).\n",
    "- *Make detailed comments with your code* <br>\n",
    "- *Record EVERYTHING ommitted and changed if necessary* <br>\n",
    "- Since we are exploring and learning without a specific organization policy, use your best judgement when ommitting records. If you have chosen to ommit data, please explain why.</br>\n",
    "- Save your new CLEAN data as a .csv file. \n",
    "\n",
    "\n",
    "Comment ALL code to recieve full credit. The above bullet points are to help guide you in your process, but extensive cleaning is expected for your data set (This will also save you a lot of time down the line!). \n",
    "<br>\n",
    "\n",
    "<br>\n",
    "<b>The code that I have written below is just to give you ideas on exploring and cleaning data. It is encouraged that you explore and clean it in greater detail than what I have written below for full credit.</b><br>"
   ]
  },
  {
   "cell_type": "markdown",
   "id": "99cfd79e-80aa-4fc6-88d0-cd347db33ad5",
   "metadata": {},
   "source": [
    "<b>Dataset name: </b>Coffee Shop Sales<br>\n",
    "<b>Company/Government Organization:  Maven Analytics</b><br>\n",
    "Download link: https://maven-datasets.s3.amazonaws.com/Coffee+Shop+Sales/Coffee+Shop+Sales.zip  <br>\n",
    "Date of Access: 2/8/2025"
   ]
  },
  {
   "cell_type": "code",
   "execution_count": 34,
   "id": "79bf2359",
   "metadata": {
    "scrolled": true
   },
   "outputs": [],
   "source": [
    "# I decided to keep working with this set because it has more data to use and mess around with.\n",
    "# It also piqued my interest because I want to gain analytical skills for small businesses \n"
   ]
  },
  {
   "cell_type": "markdown",
   "id": "671734a8-46a4-4d71-81e7-ce3c62f716b4",
   "metadata": {},
   "source": [
    "Make all column names lowercase, with no spaces or special characters:"
   ]
  },
  {
   "cell_type": "code",
   "execution_count": 133,
   "id": "5b3ab515-da5d-4ec4-a569-6f11cd54da3e",
   "metadata": {
    "scrolled": true
   },
   "outputs": [
    {
     "name": "stdout",
     "output_type": "stream",
     "text": [
      "Index(['transaction_id', 'transaction_date', 'transaction_time',\n",
      "       'transaction_qty', 'store_id', 'store_location', 'product_id',\n",
      "       'unit_price', 'product_category', 'product_type', 'product_detail'],\n",
      "      dtype='object')\n"
     ]
    }
   ],
   "source": [
    "# Print data frame to view columns\n",
    "print(coffee_df.columns)"
   ]
  },
  {
   "cell_type": "code",
   "execution_count": 137,
   "id": "65a2d07c-0e89-4442-9ff2-acde62694602",
   "metadata": {
    "scrolled": true
   },
   "outputs": [],
   "source": [
    "# Make column names lowercase\n",
    "new_columns = []\n",
    "for col in coffee_df.columns:\n",
    "    # converts to lowercase\n",
    "    col = col.lower() \n",
    "    # replace spaces with underscores\n",
    "    col = col.replace(\" \", \"_\") \n",
    "    # remove special characters except for underscores\n",
    "    col = \"\".join(c for c in col if c.isalnum() or c == \"_\")  \n",
    "    new_columns.append(col)"
   ]
  },
  {
   "cell_type": "code",
   "execution_count": 36,
   "id": "e6ab7e05",
   "metadata": {},
   "outputs": [],
   "source": [
    "# Happy Cleaning :) "
   ]
  },
  {
   "cell_type": "code",
   "execution_count": 139,
   "id": "96de4afc",
   "metadata": {},
   "outputs": [],
   "source": [
    "# applying the cleaned list to orginial data fram \n",
    "coffee_df.columns = new_columns"
   ]
  },
  {
   "cell_type": "code",
   "execution_count": null,
   "id": "57e6e8b1",
   "metadata": {},
   "outputs": [],
   "source": []
  },
  {
   "cell_type": "code",
   "execution_count": 143,
   "id": "cb333a28-a23b-40d6-b273-b2b6e2549179",
   "metadata": {},
   "outputs": [
    {
     "name": "stdout",
     "output_type": "stream",
     "text": [
      "transaction_id      0\n",
      "transaction_date    0\n",
      "transaction_time    0\n",
      "transaction_qty     0\n",
      "store_id            0\n",
      "store_location      0\n",
      "product_id          0\n",
      "unit_price          0\n",
      "product_category    0\n",
      "product_type        0\n",
      "product_detail      0\n",
      "dtype: int64\n"
     ]
    }
   ],
   "source": [
    "# Checking for any N/A values\n",
    "print(coffee_df.isnull().sum()) "
   ]
  },
  {
   "cell_type": "code",
   "execution_count": null,
   "id": "738acfbc-9371-4eb2-89f6-377d56bc0e69",
   "metadata": {},
   "outputs": [],
   "source": [
    "# there are no NAs in my coffee sales data"
   ]
  },
  {
   "cell_type": "code",
   "execution_count": 177,
   "id": "f1fb688b-a75b-4c29-a085-21b2507e10d1",
   "metadata": {},
   "outputs": [
    {
     "name": "stdout",
     "output_type": "stream",
     "text": [
      "0\n",
      "Empty DataFrame\n",
      "Columns: [transaction_id, transaction_date, transaction_time, transaction_qty, store_id, store_location, product_id, unit_price, product_category, product_type, product_detail]\n",
      "Index: []\n"
     ]
    }
   ],
   "source": [
    "# addressing missing strings in product_type\n",
    "\n",
    "# count empty strings\n",
    "print((coffee_df['product_type'] == '').sum())  \n",
    "# show rows with empty strings\n",
    "print(coffee_df[coffee_df['product_type'] == ''])  \n"
   ]
  },
  {
   "cell_type": "code",
   "execution_count": null,
   "id": "c8dd64aa-42a0-49f5-adc5-2fac9e4d105e",
   "metadata": {},
   "outputs": [],
   "source": []
  },
  {
   "cell_type": "code",
   "execution_count": null,
   "id": "de2efdca-f5e8-46ef-a29e-4023eacc333a",
   "metadata": {},
   "outputs": [],
   "source": []
  }
 ],
 "metadata": {
  "kernelspec": {
   "display_name": "Python [conda env:base] *",
   "language": "python",
   "name": "conda-base-py"
  },
  "language_info": {
   "codemirror_mode": {
    "name": "ipython",
    "version": 3
   },
   "file_extension": ".py",
   "mimetype": "text/x-python",
   "name": "python",
   "nbconvert_exporter": "python",
   "pygments_lexer": "ipython3",
   "version": "3.12.2"
  }
 },
 "nbformat": 4,
 "nbformat_minor": 5
}
